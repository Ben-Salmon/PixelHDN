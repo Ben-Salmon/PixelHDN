{
 "cells": [
  {
   "cell_type": "code",
   "execution_count": 1,
   "id": "1277875f-4132-4c66-9bdc-2a5fc6ff2b03",
   "metadata": {},
   "outputs": [
    {
     "name": "stderr",
     "output_type": "stream",
     "text": [
      "GPU available: True, used: True\n",
      "TPU available: False, using: 0 TPU cores\n",
      "IPU available: False, using: 0 IPUs\n"
     ]
    }
   ],
   "source": [
    "import warnings\n",
    "warnings.filterwarnings('ignore')\n",
    "import os\n",
    "import numpy as np\n",
    "import torch\n",
    "from torchvision import transforms\n",
    "import pytorch_lightning as pl\n",
    "from pytorch_lightning.callbacks import ModelCheckpoint, EarlyStopping\n",
    "import sys\n",
    "sys.path.append('../')\n",
    "from HDN.models.lvae import LadderVAE\n",
    "from utils.dataloaders import create_dn_loader\n",
    "from tifffile import imread\n",
    "from noise_models.PixelCNN import PixelCNN\n",
    "\n",
    "device = torch.device(\"cuda\" if torch.cuda.is_available() else \"cpu\")\n",
    "\n",
    "observation = imread('../data/PAI/observation.tif')\n",
    "noise = imread('../data/PAI/noise.tif')\n",
    "\n",
    "#transform = transforms.RandomCrop(64)\n",
    "train_loader, val_loader, data_mean, data_std, img_shape = create_dn_loader(observation, batch_size=32, split=0.9)\n",
    "del(observation)\n",
    "\n",
    "gaussian_noise_std = np.std(noise)\n",
    "del(noise)\n",
    "    \n",
    "lr=3e-4\n",
    "num_latents = 6\n",
    "z_dims = [32]*int(num_latents)\n",
    "free_bits = 1.5\n",
    "use_uncond_mode_at=[0,1]\n",
    "\n",
    "model = LadderVAE(z_dims=z_dims,\n",
    "                  data_mean=data_mean,\n",
    "                  data_std=data_std,\n",
    "                  gaussian_noise_std=gaussian_noise_std,\n",
    "                  img_shape=img_shape,\n",
    "                  img_folder='./',\n",
    "                  use_uncond_mode_at=use_uncond_mode_at)\n",
    "\n",
    "checkpoint_path = './'\n",
    "trainer = pl.Trainer(default_root_dir=os.path.join(checkpoint_path, \"HDN\"),\n",
    "                     gpus=1 if str(device).startswith(\"cuda\") else 0,\n",
    "                     max_epochs=6000,\n",
    "                     logger=False,\n",
    "                     gradient_clip_val=0,\n",
    "                     callbacks=[ModelCheckpoint(save_weights_only=False, mode=\"min\", monitor=\"val_elbo\", every_n_epochs=50),\n",
    "                                EarlyStopping('val_elbo', patience=6000)])"
   ]
  },
  {
   "cell_type": "code",
   "execution_count": 2,
   "id": "57cb28a7-719e-4f2f-99a2-562f6aafa1d3",
   "metadata": {},
   "outputs": [
    {
     "name": "stderr",
     "output_type": "stream",
     "text": [
      "LOCAL_RANK: 0 - CUDA_VISIBLE_DEVICES: [0]\n",
      "Set SLURM handle signals.\n",
      "\n",
      "  | Name             | Type               | Params\n",
      "--------------------------------------------------------\n",
      "0 | first_bottom_up  | Sequential         | 75.8 K\n",
      "1 | top_down_layers  | ModuleList         | 4.1 M \n",
      "2 | bottom_up_layers | ModuleList         | 2.7 M \n",
      "3 | final_top_down   | Sequential         | 412 K \n",
      "4 | likelihood       | GaussianLikelihood | 577   \n",
      "--------------------------------------------------------\n",
      "7.3 M     Trainable params\n",
      "0         Non-trainable params\n",
      "7.3 M     Total params\n",
      "29.208    Total estimated model params size (MB)\n"
     ]
    },
    {
     "data": {
      "application/vnd.jupyter.widget-view+json": {
       "model_id": "",
       "version_major": 2,
       "version_minor": 0
      },
      "text/plain": [
       "Validation sanity check: 0it [00:00, ?it/s]"
      ]
     },
     "metadata": {},
     "output_type": "display_data"
    },
    {
     "data": {
      "application/vnd.jupyter.widget-view+json": {
       "model_id": "4ebf1f8cb73a44c69210fb68539d430f",
       "version_major": 2,
       "version_minor": 0
      },
      "text/plain": [
       "Training: 0it [00:00, ?it/s]"
      ]
     },
     "metadata": {},
     "output_type": "display_data"
    },
    {
     "data": {
      "application/vnd.jupyter.widget-view+json": {
       "model_id": "",
       "version_major": 2,
       "version_minor": 0
      },
      "text/plain": [
       "Validating: 0it [00:00, ?it/s]"
      ]
     },
     "metadata": {},
     "output_type": "display_data"
    },
    {
     "data": {
      "application/vnd.jupyter.widget-view+json": {
       "model_id": "",
       "version_major": 2,
       "version_minor": 0
      },
      "text/plain": [
       "Validating: 0it [00:00, ?it/s]"
      ]
     },
     "metadata": {},
     "output_type": "display_data"
    },
    {
     "data": {
      "application/vnd.jupyter.widget-view+json": {
       "model_id": "",
       "version_major": 2,
       "version_minor": 0
      },
      "text/plain": [
       "Validating: 0it [00:00, ?it/s]"
      ]
     },
     "metadata": {},
     "output_type": "display_data"
    },
    {
     "data": {
      "application/vnd.jupyter.widget-view+json": {
       "model_id": "",
       "version_major": 2,
       "version_minor": 0
      },
      "text/plain": [
       "Validating: 0it [00:00, ?it/s]"
      ]
     },
     "metadata": {},
     "output_type": "display_data"
    },
    {
     "data": {
      "application/vnd.jupyter.widget-view+json": {
       "model_id": "",
       "version_major": 2,
       "version_minor": 0
      },
      "text/plain": [
       "Validating: 0it [00:00, ?it/s]"
      ]
     },
     "metadata": {},
     "output_type": "display_data"
    },
    {
     "data": {
      "application/vnd.jupyter.widget-view+json": {
       "model_id": "",
       "version_major": 2,
       "version_minor": 0
      },
      "text/plain": [
       "Validating: 0it [00:00, ?it/s]"
      ]
     },
     "metadata": {},
     "output_type": "display_data"
    },
    {
     "data": {
      "application/vnd.jupyter.widget-view+json": {
       "model_id": "",
       "version_major": 2,
       "version_minor": 0
      },
      "text/plain": [
       "Validating: 0it [00:00, ?it/s]"
      ]
     },
     "metadata": {},
     "output_type": "display_data"
    },
    {
     "data": {
      "application/vnd.jupyter.widget-view+json": {
       "model_id": "",
       "version_major": 2,
       "version_minor": 0
      },
      "text/plain": [
       "Validating: 0it [00:00, ?it/s]"
      ]
     },
     "metadata": {},
     "output_type": "display_data"
    },
    {
     "data": {
      "application/vnd.jupyter.widget-view+json": {
       "model_id": "",
       "version_major": 2,
       "version_minor": 0
      },
      "text/plain": [
       "Validating: 0it [00:00, ?it/s]"
      ]
     },
     "metadata": {},
     "output_type": "display_data"
    },
    {
     "data": {
      "application/vnd.jupyter.widget-view+json": {
       "model_id": "",
       "version_major": 2,
       "version_minor": 0
      },
      "text/plain": [
       "Validating: 0it [00:00, ?it/s]"
      ]
     },
     "metadata": {},
     "output_type": "display_data"
    },
    {
     "data": {
      "application/vnd.jupyter.widget-view+json": {
       "model_id": "",
       "version_major": 2,
       "version_minor": 0
      },
      "text/plain": [
       "Validating: 0it [00:00, ?it/s]"
      ]
     },
     "metadata": {},
     "output_type": "display_data"
    },
    {
     "data": {
      "application/vnd.jupyter.widget-view+json": {
       "model_id": "",
       "version_major": 2,
       "version_minor": 0
      },
      "text/plain": [
       "Validating: 0it [00:00, ?it/s]"
      ]
     },
     "metadata": {},
     "output_type": "display_data"
    }
   ],
   "source": [
    "trainer.fit(model, train_loader, val_loader)"
   ]
  },
  {
   "cell_type": "code",
   "execution_count": null,
   "id": "58e9ceb9-cd3d-470f-9739-c3770bc81749",
   "metadata": {},
   "outputs": [],
   "source": []
  }
 ],
 "metadata": {
  "kernelspec": {
   "display_name": "Python 3 (ipykernel)",
   "language": "python",
   "name": "python3"
  },
  "language_info": {
   "codemirror_mode": {
    "name": "ipython",
    "version": 3
   },
   "file_extension": ".py",
   "mimetype": "text/x-python",
   "name": "python",
   "nbconvert_exporter": "python",
   "pygments_lexer": "ipython3",
   "version": "3.9.5"
  }
 },
 "nbformat": 4,
 "nbformat_minor": 5
}
